{
 "cells": [
  {
   "cell_type": "code",
   "execution_count": 13,
   "metadata": {},
   "outputs": [
    {
     "name": "stdout",
     "output_type": "stream",
     "text": [
      "Flattened data saved to 'pdb_flattened_data.csv'\n",
      "Total rows: 175\n",
      "\n",
      "First 10 rows:\n",
      "   year      label  population\n",
      "0  2015    Diamond           4\n",
      "1  2015        APS           1\n",
      "2  2015  SLAC LCLS           1\n",
      "3  2016    Diamond          15\n",
      "4  2016        APS           1\n",
      "5  2016       ESRF           1\n",
      "6  2016       NSLS           1\n",
      "7  2016  SLAC LCLS           1\n",
      "8  2016   SPring-8           1\n",
      "9  2016       SSRF           1\n"
     ]
    }
   ],
   "source": [
    "import json\n",
    "import pandas as pd\n",
    "\n",
    "# Read your file (adjust the upload method as needed for Colab)\n",
    "filename = 'pdb_data.txt'\n",
    "with open(filename, 'r') as file:\n",
    "    json_text = file.read()\n",
    "    data = json.loads(json_text)\n",
    "\n",
    "def flatten_pdb_data(data):\n",
    "    rows = []\n",
    "    release_date_facet = data['facets'][0]\n",
    "    \n",
    "    for year_bucket in release_date_facet['buckets']:\n",
    "        year = year_bucket['label']\n",
    "        \n",
    "        if 'facets' in year_bucket and len(year_bucket['facets']) > 0:\n",
    "            synchrotron_facet = year_bucket['facets'][0]\n",
    "            \n",
    "            for facility_bucket in synchrotron_facet['buckets']:\n",
    "                label = facility_bucket['label']\n",
    "                population = facility_bucket['population']\n",
    "                \n",
    "                rows.append({\n",
    "                    'year': year,\n",
    "                    'label': label,\n",
    "                    'population': population\n",
    "                })\n",
    "    \n",
    "    return rows\n",
    "\n",
    "# Flatten the data\n",
    "flattened_data = flatten_pdb_data(data)\n",
    "df = pd.DataFrame(flattened_data)\n",
    "\n",
    "# Save the flattened data to CSV\n",
    "df.to_csv('pdb_flattened_data.csv', index=False)\n",
    "\n",
    "print(\"Flattened data saved to 'pdb_flattened_data.csv'\")\n",
    "print(f\"Total rows: {len(df)}\")\n",
    "print(\"\\nFirst 10 rows:\")\n",
    "print(df.head(10))"
   ]
  },
  {
   "cell_type": "code",
   "execution_count": null,
   "metadata": {},
   "outputs": [],
   "source": []
  }
 ],
 "metadata": {
  "kernelspec": {
   "display_name": "Python 3",
   "language": "python",
   "name": "python3"
  },
  "language_info": {
   "codemirror_mode": {
    "name": "ipython",
    "version": 3
   },
   "file_extension": ".py",
   "mimetype": "text/x-python",
   "name": "python",
   "nbconvert_exporter": "python",
   "pygments_lexer": "ipython3",
   "version": "3.7.3"
  }
 },
 "nbformat": 4,
 "nbformat_minor": 2
}
